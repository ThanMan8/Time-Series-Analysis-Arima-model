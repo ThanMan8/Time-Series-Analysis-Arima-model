{
 "cells": [
  {
   "cell_type": "code",
   "execution_count": 1,
   "metadata": {},
   "outputs": [
    {
     "name": "stderr",
     "output_type": "stream",
     "text": [
      "C:\\Users\\User\\AppData\\Local\\Temp/ipykernel_18984/2374346551.py:5: FutureWarning: The pandas.datetime class is deprecated and will be removed from pandas in a future version. Import from datetime module instead.\n",
      "  from pandas import datetime as dt\n"
     ]
    }
   ],
   "source": [
    "import numpy as np\n",
    "import matplotlib.pyplot as plt\n",
    "import pandas as pd\n",
    "import sklearn as sk\n",
    "from pandas import datetime as dt\n",
    "import yfinance as yf\n",
    "from yahoofinancials import YahooFinancials\n",
    "import statsmodels.tsa.stattools as ts\n",
    "import statsmodels.api as sm\n",
    "from statsmodels.tsa.ar_model import AR\n",
    "from sklearn.metrics import mean_squared_error\n",
    "from statsmodels.tsa.arima_model import ARIMA"
   ]
  },
  {
   "cell_type": "code",
   "execution_count": 2,
   "metadata": {},
   "outputs": [],
   "source": [
    "#def parser(x):\n",
    "#    return datetime.strptime(x,'%d/%m/%Y')\n",
    "\n",
    "#Aframax_price = pd.read_csv(r'C:/Users/Data/Aframax_Purchase.csv',  parse_dates = [0], index_col = 0, date_parser = parser, delimiter = ',')"
   ]
  },
  {
   "cell_type": "code",
   "execution_count": 3,
   "metadata": {},
   "outputs": [
    {
     "data": {
      "text/html": [
       "<div>\n",
       "<style scoped>\n",
       "    .dataframe tbody tr th:only-of-type {\n",
       "        vertical-align: middle;\n",
       "    }\n",
       "\n",
       "    .dataframe tbody tr th {\n",
       "        vertical-align: top;\n",
       "    }\n",
       "\n",
       "    .dataframe thead th {\n",
       "        text-align: right;\n",
       "    }\n",
       "</style>\n",
       "<table border=\"1\" class=\"dataframe\">\n",
       "  <thead>\n",
       "    <tr style=\"text-align: right;\">\n",
       "      <th></th>\n",
       "      <th>Open</th>\n",
       "      <th>High</th>\n",
       "      <th>Low</th>\n",
       "      <th>Close</th>\n",
       "      <th>Adj Close</th>\n",
       "      <th>Volume</th>\n",
       "    </tr>\n",
       "    <tr>\n",
       "      <th>Date</th>\n",
       "      <th></th>\n",
       "      <th></th>\n",
       "      <th></th>\n",
       "      <th></th>\n",
       "      <th></th>\n",
       "      <th></th>\n",
       "    </tr>\n",
       "  </thead>\n",
       "  <tbody>\n",
       "    <tr>\n",
       "      <th>2018-12-31</th>\n",
       "      <td>1510.800049</td>\n",
       "      <td>1520.760010</td>\n",
       "      <td>1487.000000</td>\n",
       "      <td>1501.969971</td>\n",
       "      <td>1501.969971</td>\n",
       "      <td>6954500</td>\n",
       "    </tr>\n",
       "    <tr>\n",
       "      <th>2019-01-02</th>\n",
       "      <td>1465.199951</td>\n",
       "      <td>1553.359985</td>\n",
       "      <td>1460.930054</td>\n",
       "      <td>1539.130005</td>\n",
       "      <td>1539.130005</td>\n",
       "      <td>7983100</td>\n",
       "    </tr>\n",
       "    <tr>\n",
       "      <th>2019-01-03</th>\n",
       "      <td>1520.010010</td>\n",
       "      <td>1538.000000</td>\n",
       "      <td>1497.109985</td>\n",
       "      <td>1500.280029</td>\n",
       "      <td>1500.280029</td>\n",
       "      <td>6975600</td>\n",
       "    </tr>\n",
       "    <tr>\n",
       "      <th>2019-01-04</th>\n",
       "      <td>1530.000000</td>\n",
       "      <td>1594.000000</td>\n",
       "      <td>1518.310059</td>\n",
       "      <td>1575.390015</td>\n",
       "      <td>1575.390015</td>\n",
       "      <td>9182600</td>\n",
       "    </tr>\n",
       "    <tr>\n",
       "      <th>2019-01-07</th>\n",
       "      <td>1602.310059</td>\n",
       "      <td>1634.560059</td>\n",
       "      <td>1589.189941</td>\n",
       "      <td>1629.510010</td>\n",
       "      <td>1629.510010</td>\n",
       "      <td>7993200</td>\n",
       "    </tr>\n",
       "    <tr>\n",
       "      <th>...</th>\n",
       "      <td>...</td>\n",
       "      <td>...</td>\n",
       "      <td>...</td>\n",
       "      <td>...</td>\n",
       "      <td>...</td>\n",
       "      <td>...</td>\n",
       "    </tr>\n",
       "    <tr>\n",
       "      <th>2022-04-25</th>\n",
       "      <td>2880.459961</td>\n",
       "      <td>2924.429932</td>\n",
       "      <td>2846.129883</td>\n",
       "      <td>2921.479980</td>\n",
       "      <td>2921.479980</td>\n",
       "      <td>3093700</td>\n",
       "    </tr>\n",
       "    <tr>\n",
       "      <th>2022-04-26</th>\n",
       "      <td>2896.000000</td>\n",
       "      <td>2897.120117</td>\n",
       "      <td>2778.590088</td>\n",
       "      <td>2787.820068</td>\n",
       "      <td>2787.820068</td>\n",
       "      <td>3876500</td>\n",
       "    </tr>\n",
       "    <tr>\n",
       "      <th>2022-04-27</th>\n",
       "      <td>2803.830078</td>\n",
       "      <td>2838.969971</td>\n",
       "      <td>2715.669922</td>\n",
       "      <td>2763.340088</td>\n",
       "      <td>2763.340088</td>\n",
       "      <td>3566800</td>\n",
       "    </tr>\n",
       "    <tr>\n",
       "      <th>2022-04-28</th>\n",
       "      <td>2843.560059</td>\n",
       "      <td>2918.750000</td>\n",
       "      <td>2806.000000</td>\n",
       "      <td>2891.929932</td>\n",
       "      <td>2891.929932</td>\n",
       "      <td>5865800</td>\n",
       "    </tr>\n",
       "    <tr>\n",
       "      <th>2022-04-29</th>\n",
       "      <td>2596.979980</td>\n",
       "      <td>2615.219971</td>\n",
       "      <td>2432.500000</td>\n",
       "      <td>2485.629883</td>\n",
       "      <td>2485.629883</td>\n",
       "      <td>13616500</td>\n",
       "    </tr>\n",
       "  </tbody>\n",
       "</table>\n",
       "<p>840 rows × 6 columns</p>\n",
       "</div>"
      ],
      "text/plain": [
       "                   Open         High          Low        Close    Adj Close  \\\n",
       "Date                                                                          \n",
       "2018-12-31  1510.800049  1520.760010  1487.000000  1501.969971  1501.969971   \n",
       "2019-01-02  1465.199951  1553.359985  1460.930054  1539.130005  1539.130005   \n",
       "2019-01-03  1520.010010  1538.000000  1497.109985  1500.280029  1500.280029   \n",
       "2019-01-04  1530.000000  1594.000000  1518.310059  1575.390015  1575.390015   \n",
       "2019-01-07  1602.310059  1634.560059  1589.189941  1629.510010  1629.510010   \n",
       "...                 ...          ...          ...          ...          ...   \n",
       "2022-04-25  2880.459961  2924.429932  2846.129883  2921.479980  2921.479980   \n",
       "2022-04-26  2896.000000  2897.120117  2778.590088  2787.820068  2787.820068   \n",
       "2022-04-27  2803.830078  2838.969971  2715.669922  2763.340088  2763.340088   \n",
       "2022-04-28  2843.560059  2918.750000  2806.000000  2891.929932  2891.929932   \n",
       "2022-04-29  2596.979980  2615.219971  2432.500000  2485.629883  2485.629883   \n",
       "\n",
       "              Volume  \n",
       "Date                  \n",
       "2018-12-31   6954500  \n",
       "2019-01-02   7983100  \n",
       "2019-01-03   6975600  \n",
       "2019-01-04   9182600  \n",
       "2019-01-07   7993200  \n",
       "...              ...  \n",
       "2022-04-25   3093700  \n",
       "2022-04-26   3876500  \n",
       "2022-04-27   3566800  \n",
       "2022-04-28   5865800  \n",
       "2022-04-29  13616500  \n",
       "\n",
       "[840 rows x 6 columns]"
      ]
     },
     "execution_count": 3,
     "metadata": {},
     "output_type": "execute_result"
    }
   ],
   "source": [
    "ticker = \"AMZN\"\n",
    "data = yf.download(ticker,start=\"2019-01-01\",end=\"2022-04-30\",progress=False)\n",
    "data"
   ]
  },
  {
   "cell_type": "code",
   "execution_count": 4,
   "metadata": {},
   "outputs": [
    {
     "data": {
      "text/html": [
       "<div>\n",
       "<style scoped>\n",
       "    .dataframe tbody tr th:only-of-type {\n",
       "        vertical-align: middle;\n",
       "    }\n",
       "\n",
       "    .dataframe tbody tr th {\n",
       "        vertical-align: top;\n",
       "    }\n",
       "\n",
       "    .dataframe thead th {\n",
       "        text-align: right;\n",
       "    }\n",
       "</style>\n",
       "<table border=\"1\" class=\"dataframe\">\n",
       "  <thead>\n",
       "    <tr style=\"text-align: right;\">\n",
       "      <th></th>\n",
       "      <th>Open</th>\n",
       "      <th>High</th>\n",
       "      <th>Low</th>\n",
       "      <th>Close</th>\n",
       "      <th>Adj Close</th>\n",
       "      <th>Volume</th>\n",
       "    </tr>\n",
       "    <tr>\n",
       "      <th>Date</th>\n",
       "      <th></th>\n",
       "      <th></th>\n",
       "      <th></th>\n",
       "      <th></th>\n",
       "      <th></th>\n",
       "      <th></th>\n",
       "    </tr>\n",
       "  </thead>\n",
       "  <tbody>\n",
       "    <tr>\n",
       "      <th>2018-12-31</th>\n",
       "      <td>1510.800049</td>\n",
       "      <td>1520.760010</td>\n",
       "      <td>1487.000000</td>\n",
       "      <td>1501.969971</td>\n",
       "      <td>1501.969971</td>\n",
       "      <td>6954500</td>\n",
       "    </tr>\n",
       "    <tr>\n",
       "      <th>2019-01-02</th>\n",
       "      <td>1465.199951</td>\n",
       "      <td>1553.359985</td>\n",
       "      <td>1460.930054</td>\n",
       "      <td>1539.130005</td>\n",
       "      <td>1539.130005</td>\n",
       "      <td>7983100</td>\n",
       "    </tr>\n",
       "    <tr>\n",
       "      <th>2019-01-03</th>\n",
       "      <td>1520.010010</td>\n",
       "      <td>1538.000000</td>\n",
       "      <td>1497.109985</td>\n",
       "      <td>1500.280029</td>\n",
       "      <td>1500.280029</td>\n",
       "      <td>6975600</td>\n",
       "    </tr>\n",
       "    <tr>\n",
       "      <th>2019-01-04</th>\n",
       "      <td>1530.000000</td>\n",
       "      <td>1594.000000</td>\n",
       "      <td>1518.310059</td>\n",
       "      <td>1575.390015</td>\n",
       "      <td>1575.390015</td>\n",
       "      <td>9182600</td>\n",
       "    </tr>\n",
       "    <tr>\n",
       "      <th>2019-01-07</th>\n",
       "      <td>1602.310059</td>\n",
       "      <td>1634.560059</td>\n",
       "      <td>1589.189941</td>\n",
       "      <td>1629.510010</td>\n",
       "      <td>1629.510010</td>\n",
       "      <td>7993200</td>\n",
       "    </tr>\n",
       "  </tbody>\n",
       "</table>\n",
       "</div>"
      ],
      "text/plain": [
       "                   Open         High          Low        Close    Adj Close  \\\n",
       "Date                                                                          \n",
       "2018-12-31  1510.800049  1520.760010  1487.000000  1501.969971  1501.969971   \n",
       "2019-01-02  1465.199951  1553.359985  1460.930054  1539.130005  1539.130005   \n",
       "2019-01-03  1520.010010  1538.000000  1497.109985  1500.280029  1500.280029   \n",
       "2019-01-04  1530.000000  1594.000000  1518.310059  1575.390015  1575.390015   \n",
       "2019-01-07  1602.310059  1634.560059  1589.189941  1629.510010  1629.510010   \n",
       "\n",
       "             Volume  \n",
       "Date                 \n",
       "2018-12-31  6954500  \n",
       "2019-01-02  7983100  \n",
       "2019-01-03  6975600  \n",
       "2019-01-04  9182600  \n",
       "2019-01-07  7993200  "
      ]
     },
     "execution_count": 4,
     "metadata": {},
     "output_type": "execute_result"
    }
   ],
   "source": [
    "data.head()"
   ]
  },
  {
   "cell_type": "code",
   "execution_count": 5,
   "metadata": {},
   "outputs": [],
   "source": [
    "data.rename(columns={\"Close\":'close'},inplace=True)\n",
    "data = data['close']"
   ]
  },
  {
   "cell_type": "code",
   "execution_count": 6,
   "metadata": {},
   "outputs": [
    {
     "data": {
      "text/plain": [
       "<AxesSubplot:xlabel='Date'>"
      ]
     },
     "execution_count": 6,
     "metadata": {},
     "output_type": "execute_result"
    },
    {
     "data": {
      "image/png": "[encoded data removed]",
      "text/plain": [
       "<Figure size 432x288 with 1 Axes>"
      ]
     },
     "metadata": {
      "needs_background": "light"
     },
     "output_type": "display_data"
    }
   ],
   "source": [
    "data.plot()"
   ]
  },
  {
   "cell_type": "code",
   "execution_count": 7,
   "metadata": {},
   "outputs": [
    {
     "data": {
      "text/plain": [
       "(-1.726258834866883,\n",
       " 0.41763643334077094,\n",
       " 0,\n",
       " 839,\n",
       " {'1%': -3.438168140637663,\n",
       "  '5%': -2.864991017121922,\n",
       "  '10%': -2.5686076019468094},\n",
       " 8915.190522013747)"
      ]
     },
     "execution_count": 7,
     "metadata": {},
     "output_type": "execute_result"
    }
   ],
   "source": [
    "ts.adfuller(data) # the p-value is bigger than 0.05 .The series is stationary"
   ]
  },
  {
   "cell_type": "markdown",
   "metadata": {},
   "source": [
    "# Stationary means mean, variance and covariance is constant over periods"
   ]
  },
  {
   "cell_type": "code",
   "execution_count": 9,
   "metadata": {},
   "outputs": [
    {
     "data": {
      "text/plain": [
       "<AxesSubplot:xlabel='Date'>"
      ]
     },
     "execution_count": 9,
     "metadata": {},
     "output_type": "execute_result"
    },
    {
     "data": {
      "image/png": "[encoded data removed]",
      "text/plain": [
       "<Figure size 432x288 with 1 Axes>"
      ]
     },
     "metadata": {
      "needs_background": "light"
     },
     "output_type": "display_data"
    }
   ],
   "source": [
    "data_diff = data.diff(periods=1)\n",
    "data_diff.plot()"
   ]
  },
  {
   "cell_type": "code",
   "execution_count": 10,
   "metadata": {},
   "outputs": [
    {
     "name": "stderr",
     "output_type": "stream",
     "text": [
      "C:\\Users\\User\\anaconda3\\lib\\site-packages\\numpy\\core\\_asarray.py:102: UserWarning: Warning: converting a masked element to nan.\n",
      "  return array(a, dtype, copy=False, order=order)\n"
     ]
    },
    {
     "data": {
      "image/png": "[encoded data removed]",
      "text/plain": [
       "<Figure size 432x288 with 1 Axes>"
      ]
     },
     "execution_count": 10,
     "metadata": {},
     "output_type": "execute_result"
    },
    {
     "data": {
      "image/png": "[encoded data removed]",
      "text/plain": [
       "<Figure size 432x288 with 1 Axes>"
      ]
     },
     "metadata": {
      "needs_background": "light"
     },
     "output_type": "display_data"
    }
   ],
   "source": [
    "from statsmodels.graphics.tsaplots import plot_acf\n",
    "plot_acf(data_diff)"
   ]
  },
  {
   "cell_type": "code",
   "execution_count": 11,
   "metadata": {},
   "outputs": [
    {
     "data": {
      "text/plain": [
       "Date\n",
       "2018-12-31          NaN\n",
       "2019-01-02    37.160034\n",
       "2019-01-03   -38.849976\n",
       "2019-01-04    75.109985\n",
       "2019-01-07    54.119995\n",
       "Name: close, dtype: float64"
      ]
     },
     "execution_count": 11,
     "metadata": {},
     "output_type": "execute_result"
    }
   ],
   "source": [
    "data_diff.head()"
   ]
  },
  {
   "cell_type": "code",
   "execution_count": 12,
   "metadata": {},
   "outputs": [
    {
     "data": {
      "text/plain": [
       "Date\n",
       "2019-01-02    37.160034\n",
       "2019-01-03   -38.849976\n",
       "2019-01-04    75.109985\n",
       "2019-01-07    54.119995\n",
       "2019-01-08    27.069946\n",
       "Name: close, dtype: float64"
      ]
     },
     "execution_count": 12,
     "metadata": {},
     "output_type": "execute_result"
    }
   ],
   "source": [
    "data_diff = data_diff[1:]\n",
    "data_diff.head()"
   ]
  },
  {
   "cell_type": "code",
   "execution_count": 13,
   "metadata": {},
   "outputs": [
    {
     "data": {
      "text/plain": [
       "count    839.000000\n",
       "mean       1.172419\n",
       "std       55.898618\n",
       "min     -406.300049\n",
       "25%      -23.415100\n",
       "50%        2.439941\n",
       "75%       26.674927\n",
       "max      375.880127\n",
       "Name: close, dtype: float64"
      ]
     },
     "execution_count": 13,
     "metadata": {},
     "output_type": "execute_result"
    }
   ],
   "source": [
    "data_diff.describe()"
   ]
  },
  {
   "cell_type": "code",
   "execution_count": 14,
   "metadata": {},
   "outputs": [],
   "source": [
    "def calc_adf(x, y):\n",
    "    result = sm.OLS(x, y).fit()\n",
    "    return ts.adfuller(result.resid)"
   ]
  },
  {
   "cell_type": "code",
   "execution_count": 15,
   "metadata": {},
   "outputs": [
    {
     "name": "stdout",
     "output_type": "stream",
     "text": [
      "Self ADF (nan, nan, 0, 838, {'1%': -3.4381774989729816, '5%': -2.8649951426291, '10%': -2.568609799556849}, -inf)\n"
     ]
    },
    {
     "name": "stderr",
     "output_type": "stream",
     "text": [
      "C:\\Users\\User\\anaconda3\\lib\\site-packages\\statsmodels\\regression\\linear_model.py:903: RuntimeWarning: divide by zero encountered in log\n",
      "  llf = -nobs2*np.log(2*np.pi) - nobs2*np.log(ssr / nobs) - nobs2\n"
     ]
    }
   ],
   "source": [
    "\n",
    "print(\"Self ADF\", calc_adf(data_diff, data_diff))"
   ]
  },
  {
   "cell_type": "code",
   "execution_count": 33,
   "metadata": {},
   "outputs": [],
   "source": [
    "x = data.values\n",
    "train = x[0:725]\n",
    "test = x[725:]\n",
    "predictions =[]"
   ]
  },
  {
   "cell_type": "code",
   "execution_count": 34,
   "metadata": {},
   "outputs": [
    {
     "data": {
      "text/plain": [
       "115"
      ]
     },
     "execution_count": 34,
     "metadata": {},
     "output_type": "execute_result"
    }
   ],
   "source": [
    "test.size"
   ]
  },
  {
   "cell_type": "code",
   "execution_count": 35,
   "metadata": {},
   "outputs": [
    {
     "data": {
      "text/plain": [
       "[(0, 0, 0),\n",
       " (0, 0, 1),\n",
       " (0, 0, 2),\n",
       " (0, 0, 3),\n",
       " (0, 0, 4),\n",
       " (0, 0, 5),\n",
       " (0, 1, 0),\n",
       " (0, 1, 1),\n",
       " (0, 1, 2),\n",
       " (0, 1, 3),\n",
       " (0, 1, 4),\n",
       " (0, 1, 5),\n",
       " (0, 2, 0),\n",
       " (0, 2, 1),\n",
       " (0, 2, 2),\n",
       " (0, 2, 3),\n",
       " (0, 2, 4),\n",
       " (0, 2, 5),\n",
       " (0, 3, 0),\n",
       " (0, 3, 1),\n",
       " (0, 3, 2),\n",
       " (0, 3, 3),\n",
       " (0, 3, 4),\n",
       " (0, 3, 5),\n",
       " (0, 4, 0),\n",
       " (0, 4, 1),\n",
       " (0, 4, 2),\n",
       " (0, 4, 3),\n",
       " (0, 4, 4),\n",
       " (0, 4, 5),\n",
       " (0, 5, 0),\n",
       " (0, 5, 1),\n",
       " (0, 5, 2),\n",
       " (0, 5, 3),\n",
       " (0, 5, 4),\n",
       " (0, 5, 5),\n",
       " (1, 0, 0),\n",
       " (1, 0, 1),\n",
       " (1, 0, 2),\n",
       " (1, 0, 3),\n",
       " (1, 0, 4),\n",
       " (1, 0, 5),\n",
       " (1, 1, 0),\n",
       " (1, 1, 1),\n",
       " (1, 1, 2),\n",
       " (1, 1, 3),\n",
       " (1, 1, 4),\n",
       " (1, 1, 5),\n",
       " (1, 2, 0),\n",
       " (1, 2, 1),\n",
       " (1, 2, 2),\n",
       " (1, 2, 3),\n",
       " (1, 2, 4),\n",
       " (1, 2, 5),\n",
       " (1, 3, 0),\n",
       " (1, 3, 1),\n",
       " (1, 3, 2),\n",
       " (1, 3, 3),\n",
       " (1, 3, 4),\n",
       " (1, 3, 5),\n",
       " (1, 4, 0),\n",
       " (1, 4, 1),\n",
       " (1, 4, 2),\n",
       " (1, 4, 3),\n",
       " (1, 4, 4),\n",
       " (1, 4, 5),\n",
       " (1, 5, 0),\n",
       " (1, 5, 1),\n",
       " (1, 5, 2),\n",
       " (1, 5, 3),\n",
       " (1, 5, 4),\n",
       " (1, 5, 5),\n",
       " (2, 0, 0),\n",
       " (2, 0, 1),\n",
       " (2, 0, 2),\n",
       " (2, 0, 3),\n",
       " (2, 0, 4),\n",
       " (2, 0, 5),\n",
       " (2, 1, 0),\n",
       " (2, 1, 1),\n",
       " (2, 1, 2),\n",
       " (2, 1, 3),\n",
       " (2, 1, 4),\n",
       " (2, 1, 5),\n",
       " (2, 2, 0),\n",
       " (2, 2, 1),\n",
       " (2, 2, 2),\n",
       " (2, 2, 3),\n",
       " (2, 2, 4),\n",
       " (2, 2, 5),\n",
       " (2, 3, 0),\n",
       " (2, 3, 1),\n",
       " (2, 3, 2),\n",
       " (2, 3, 3),\n",
       " (2, 3, 4),\n",
       " (2, 3, 5),\n",
       " (2, 4, 0),\n",
       " (2, 4, 1),\n",
       " (2, 4, 2),\n",
       " (2, 4, 3),\n",
       " (2, 4, 4),\n",
       " (2, 4, 5),\n",
       " (2, 5, 0),\n",
       " (2, 5, 1),\n",
       " (2, 5, 2),\n",
       " (2, 5, 3),\n",
       " (2, 5, 4),\n",
       " (2, 5, 5),\n",
       " (3, 0, 0),\n",
       " (3, 0, 1),\n",
       " (3, 0, 2),\n",
       " (3, 0, 3),\n",
       " (3, 0, 4),\n",
       " (3, 0, 5),\n",
       " (3, 1, 0),\n",
       " (3, 1, 1),\n",
       " (3, 1, 2),\n",
       " (3, 1, 3),\n",
       " (3, 1, 4),\n",
       " (3, 1, 5),\n",
       " (3, 2, 0),\n",
       " (3, 2, 1),\n",
       " (3, 2, 2),\n",
       " (3, 2, 3),\n",
       " (3, 2, 4),\n",
       " (3, 2, 5),\n",
       " (3, 3, 0),\n",
       " (3, 3, 1),\n",
       " (3, 3, 2),\n",
       " (3, 3, 3),\n",
       " (3, 3, 4),\n",
       " (3, 3, 5),\n",
       " (3, 4, 0),\n",
       " (3, 4, 1),\n",
       " (3, 4, 2),\n",
       " (3, 4, 3),\n",
       " (3, 4, 4),\n",
       " (3, 4, 5),\n",
       " (3, 5, 0),\n",
       " (3, 5, 1),\n",
       " (3, 5, 2),\n",
       " (3, 5, 3),\n",
       " (3, 5, 4),\n",
       " (3, 5, 5),\n",
       " (4, 0, 0),\n",
       " (4, 0, 1),\n",
       " (4, 0, 2),\n",
       " (4, 0, 3),\n",
       " (4, 0, 4),\n",
       " (4, 0, 5),\n",
       " (4, 1, 0),\n",
       " (4, 1, 1),\n",
       " (4, 1, 2),\n",
       " (4, 1, 3),\n",
       " (4, 1, 4),\n",
       " (4, 1, 5),\n",
       " (4, 2, 0),\n",
       " (4, 2, 1),\n",
       " (4, 2, 2),\n",
       " (4, 2, 3),\n",
       " (4, 2, 4),\n",
       " (4, 2, 5),\n",
       " (4, 3, 0),\n",
       " (4, 3, 1),\n",
       " (4, 3, 2),\n",
       " (4, 3, 3),\n",
       " (4, 3, 4),\n",
       " (4, 3, 5),\n",
       " (4, 4, 0),\n",
       " (4, 4, 1),\n",
       " (4, 4, 2),\n",
       " (4, 4, 3),\n",
       " (4, 4, 4),\n",
       " (4, 4, 5),\n",
       " (4, 5, 0),\n",
       " (4, 5, 1),\n",
       " (4, 5, 2),\n",
       " (4, 5, 3),\n",
       " (4, 5, 4),\n",
       " (4, 5, 5),\n",
       " (5, 0, 0),\n",
       " (5, 0, 1),\n",
       " (5, 0, 2),\n",
       " (5, 0, 3),\n",
       " (5, 0, 4),\n",
       " (5, 0, 5),\n",
       " (5, 1, 0),\n",
       " (5, 1, 1),\n",
       " (5, 1, 2),\n",
       " (5, 1, 3),\n",
       " (5, 1, 4),\n",
       " (5, 1, 5),\n",
       " (5, 2, 0),\n",
       " (5, 2, 1),\n",
       " (5, 2, 2),\n",
       " (5, 2, 3),\n",
       " (5, 2, 4),\n",
       " (5, 2, 5),\n",
       " (5, 3, 0),\n",
       " (5, 3, 1),\n",
       " (5, 3, 2),\n",
       " (5, 3, 3),\n",
       " (5, 3, 4),\n",
       " (5, 3, 5),\n",
       " (5, 4, 0),\n",
       " (5, 4, 1),\n",
       " (5, 4, 2),\n",
       " (5, 4, 3),\n",
       " (5, 4, 4),\n",
       " (5, 4, 5),\n",
       " (5, 5, 0),\n",
       " (5, 5, 1),\n",
       " (5, 5, 2),\n",
       " (5, 5, 3),\n",
       " (5, 5, 4),\n",
       " (5, 5, 5)]"
      ]
     },
     "execution_count": 35,
     "metadata": {},
     "output_type": "execute_result"
    }
   ],
   "source": [
    "import itertools\n",
    "p=d=q=range(0,6)\n",
    "pdq = list(itertools.product(p,d,q))\n",
    "pdq"
   ]
  },
  {
   "cell_type": "code",
   "execution_count": 36,
   "metadata": {},
   "outputs": [
    {
     "name": "stdout",
     "output_type": "stream",
     "text": [
      "(0, 0, 0) 11581.878569766672\n",
      "(0, 0, 1) 10652.875425720227\n",
      "(0, 0, 2) 9926.16427738321\n",
      "(0, 0, 3) 9430.573241049762\n",
      "(0, 0, 4) 9084.228093423953\n",
      "(0, 0, 5) 8826.292956159105\n",
      "(0, 1, 0) 7690.186254186129\n",
      "(0, 1, 1) 7691.735721367217\n",
      "(0, 1, 2) 7693.726077641275\n",
      "(0, 1, 3) 7688.804536885382\n",
      "(0, 1, 4) 7690.111304749347\n",
      "(0, 1, 5) 7690.956473166336\n",
      "(0, 2, 0) 8198.742981285748\n",
      "(0, 2, 1) 7689.136661061251\n",
      "(0, 2, 2) 7690.735041729162\n",
      "(0, 2, 3) 7692.732035310915\n",
      "(0, 2, 4) 7688.029582170095\n",
      "(0, 2, 5) 7689.2735566976135\n",
      "(1, 0, 0) 7710.512343530897\n",
      "(1, 0, 1) 7712.202770917288\n",
      "(1, 0, 2) 7714.20115764082\n",
      "(1, 0, 3) 7709.993044854086\n",
      "(1, 0, 4) 7711.090669660634\n",
      "(1, 0, 5) 7712.16425269706\n",
      "(1, 1, 0) 7691.73717911932\n",
      "(1, 1, 1) 7692.415829728376\n",
      "(1, 1, 2) 7693.996581084997\n",
      "(1, 1, 3) 7689.733750202458\n",
      "(1, 1, 4) 7691.723202247522\n",
      "(1, 1, 5) 7692.932187962837\n",
      "(1, 2, 0) 7980.983621939673\n",
      "(1, 2, 1) 7690.735099640189\n",
      "(1, 2, 2) 7691.410205222908\n",
      "(1, 2, 3) 7692.937305904139\n",
      "(1, 2, 4) 7688.909569808329\n",
      "(1, 2, 5) 7691.0278263855\n",
      "(2, 0, 0) 7712.200754314035\n",
      "(2, 0, 1) 7712.874619462038\n",
      "(2, 0, 2) 7714.279755823184\n",
      "(2, 0, 3) 7710.770106922403\n",
      "(2, 0, 4) 7712.722614936289\n",
      "(2, 0, 5) 7716.554337152232\n",
      "(2, 1, 0) 7693.7370340652105\n",
      "(2, 1, 1) 7694.096539706798\n",
      "(2, 1, 2) 7693.378008964617\n",
      "(2, 1, 3) 7682.736225055294\n",
      "(2, 1, 4) 7688.265381051129\n",
      "(2, 1, 5) 7690.080149422869\n",
      "(2, 2, 0) 7926.141088463592\n",
      "(2, 2, 1) 7692.732582417717\n",
      "(2, 2, 2) 7693.048495653393\n",
      "(2, 2, 3) 7679.746583615028\n",
      "(2, 2, 4) 7681.712496798564\n",
      "(2, 2, 5) 7687.3938985697005\n",
      "(3, 0, 0) 7714.184249790297\n",
      "(3, 0, 1) 7714.415112316831\n",
      "(3, 0, 2) 7703.198063761217\n",
      "(3, 0, 3) 7707.338664986586\n",
      "(3, 0, 4) 7710.548605465943\n",
      "(3, 0, 5) 7710.217104094965\n",
      "(3, 1, 0) 7689.064321084374\n",
      "(3, 1, 1) 7690.682303842817\n",
      "(3, 1, 2) 7689.9083057269\n",
      "(3, 1, 3) 7688.33842246128\n",
      "(3, 1, 4) 7690.338301638556\n",
      "(3, 1, 5) 7686.591939013848\n",
      "(3, 2, 0) 7857.594052451739\n",
      "(3, 2, 1) 7688.251259601158\n",
      "(3, 2, 2) 7689.834326148613\n",
      "(3, 2, 3) 7691.148273592804\n",
      "(3, 2, 4) 7695.686018748036\n",
      "(3, 2, 5) 7696.8077987037705\n",
      "(4, 0, 0) 7710.140518659162\n",
      "(4, 0, 1) 7711.6462204543905\n",
      "(4, 0, 2) 7712.0320932497725\n",
      "(4, 0, 3) 7713.081913305741\n",
      "(4, 0, 4) 7712.4499178118485\n",
      "(4, 0, 5) 7707.087249626677\n",
      "(4, 1, 0) 7690.781963320111\n",
      "(4, 1, 1) 7692.6805813658175\n",
      "(4, 1, 2) 7693.030451250323\n",
      "(4, 1, 3) 7690.338316435897\n",
      "(4, 1, 4) 7681.837249736645\n",
      "(4, 1, 5) 7682.165185236294\n",
      "(4, 2, 0) 7831.362116532715\n",
      "(4, 2, 1) 7689.928040517969\n",
      "(4, 2, 2) 7691.829174320577\n",
      "(4, 2, 3) 7686.767295123955\n",
      "(4, 2, 4) 7691.243551155654\n",
      "(4, 2, 5) 7680.30912228423\n",
      "(5, 0, 0) 7711.716669891631\n",
      "(5, 0, 1) 7715.144364639151\n",
      "(5, 0, 2) 7710.781108226164\n",
      "(5, 0, 3) 7707.638462133327\n",
      "(5, 0, 4) 7703.567515105429\n",
      "(5, 0, 5) 7710.975196709131\n",
      "(5, 1, 0) 7692.178946045808\n",
      "(5, 1, 1) 7693.906109943533\n",
      "(5, 1, 2) 7682.169051109517\n",
      "(5, 1, 3) 7690.494140809342\n",
      "(5, 1, 4) 7686.544619719216\n",
      "(5, 1, 5) 7683.056931149547\n",
      "(5, 2, 0) 7815.691644782932\n",
      "(5, 2, 1) 7691.381789398993\n",
      "(5, 2, 2) 7693.020185406458\n",
      "(5, 2, 4) 7693.531322965007\n",
      "(5, 2, 5) 7692.934897324436\n"
     ]
    }
   ],
   "source": [
    "import warnings\n",
    "warnings.filterwarnings('ignore')\n",
    "for  i in pdq:\n",
    "    try:\n",
    "        model_arima = ARIMA(train,order=(i))\n",
    "        model_arima_fit = model_arima.fit()\n",
    "        print(i,model_arima_fit.aic)\n",
    "        \n",
    "    except:\n",
    "        continue"
   ]
  },
  {
   "cell_type": "code",
   "execution_count": 37,
   "metadata": {},
   "outputs": [
    {
     "name": "stdout",
     "output_type": "stream",
     "text": [
      "7679.746583615028\n"
     ]
    }
   ],
   "source": [
    "model_arima = ARIMA(train,order=(2,2,3))\n",
    "model_arima_fit = model_arima.fit()\n",
    "print(model_arima_fit.aic)"
   ]
  },
  {
   "cell_type": "code",
   "execution_count": 41,
   "metadata": {},
   "outputs": [],
   "source": [
    "predictions = model_arima_fit.predict(start=725,end=839)"
   ]
  },
  {
   "cell_type": "code",
   "execution_count": 42,
   "metadata": {},
   "outputs": [
    {
     "data": {
      "text/plain": [
       "array([3545.67993164, 3540.69995117, 3549.        , 3696.06005859,\n",
       "       3676.57006836, 3572.57006836, 3580.04003906, 3580.40991211,\n",
       "       3504.56005859, 3561.57006836, 3507.07006836, 3443.7199707 ,\n",
       "       3437.36010742, 3389.79003906, 3427.37011719, 3523.29003906,\n",
       "       3523.15991211, 3483.41992188, 3444.23999023, 3391.35009766,\n",
       "       3381.83007812, 3466.30004883, 3377.41992188, 3400.35009766,\n",
       "       3341.58007812, 3408.34008789, 3420.73999023, 3421.37011719,\n",
       "       3393.38989258, 3413.2199707 , 3384.02001953, 3372.88989258,\n",
       "       3334.34008789, 3408.09008789, 3350.43994141, 3287.13989258,\n",
       "       3265.08007812, 3251.08007812, 3229.7199707 , 3307.23999023,\n",
       "       3304.13989258, 3224.2800293 , 3242.76000977, 3178.35009766,\n",
       "       3125.97998047, 3033.35009766, 2852.86010742, 2890.87988281,\n",
       "       2799.7199707 , 2777.44995117, 2792.75      , 2879.56005859,\n",
       "       2991.4699707 , 3023.87011719, 3012.25      , 2776.90991211,\n",
       "       3152.79003906, 3158.70996094, 3228.27001953, 3223.79003906,\n",
       "       3180.07006836, 3065.87011719, 3103.34008789, 3130.20996094,\n",
       "       3162.01000977, 3093.05004883, 3052.0300293 , 3003.94995117,\n",
       "       2896.54003906, 3027.15991211, 3075.77001953, 3071.26000977,\n",
       "       3022.84008789, 3041.05004883, 2957.9699707 , 2912.82006836,\n",
       "       2749.06005859, 2720.29003906, 2785.58007812, 2936.35009766,\n",
       "       2910.48999023, 2837.06005859, 2947.33007812, 3062.08007812,\n",
       "       3144.7800293 , 3225.01000977, 3229.83007812, 3297.7800293 ,\n",
       "       3268.15991211, 3272.98999023, 3295.4699707 , 3379.81005859,\n",
       "       3386.30004883, 3326.02001953, 3259.94995117, 3271.19995117,\n",
       "       3366.92993164, 3281.10009766, 3175.12011719, 3155.68994141,\n",
       "       3089.20996094, 3022.43994141, 3015.75      , 3110.82006836,\n",
       "       3034.12988281, 3055.69995117, 3162.31005859, 3079.95996094,\n",
       "       2965.91992188, 2887.        , 2921.47998047, 2787.82006836,\n",
       "       2763.34008789, 2891.92993164, 2485.62988281])"
      ]
     },
     "execution_count": 42,
     "metadata": {},
     "output_type": "execute_result"
    }
   ],
   "source": [
    "test"
   ]
  },
  {
   "cell_type": "code",
   "execution_count": 43,
   "metadata": {},
   "outputs": [
    {
     "data": {
      "text/plain": [
       "[<matplotlib.lines.Line2D at 0x26a396171c0>]"
      ]
     },
     "execution_count": 43,
     "metadata": {},
     "output_type": "execute_result"
    },
    {
     "data": {
      "image/png": "[encoded data removed]",
      "text/plain": [
       "<Figure size 432x288 with 1 Axes>"
      ]
     },
     "metadata": {
      "needs_background": "light"
     },
     "output_type": "display_data"
    }
   ],
   "source": [
    "plt.plot(test)\n",
    "plt.plot(predictions,color = 'red') # Model Arima fails to predict the AMZN stock"
   ]
  },
  {
   "cell_type": "code",
   "execution_count": null,
   "metadata": {},
   "outputs": [],
   "source": []
  }
 ],
 "metadata": {
  "kernelspec": {
   "display_name": "Python 3 (ipykernel)",
   "language": "python",
   "name": "python3"
  },
  "language_info": {
   "codemirror_mode": {
    "name": "ipython",
    "version": 3
   },
   "file_extension": ".py",
   "mimetype": "text/x-python",
   "name": "python",
   "nbconvert_exporter": "python",
   "pygments_lexer": "ipython3",
   "version": "3.9.7"
  }
 },
 "nbformat": 4,
 "nbformat_minor": 2
}
